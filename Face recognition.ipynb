{
 "cells": [
  {
   "cell_type": "code",
   "execution_count": 1,
   "metadata": {},
   "outputs": [],
   "source": [
    "import cv2\n",
    "import matplotlib.pyplot as plt\n",
    "from keras.preprocessing.image import ImageDataGenerator\n",
    "import time\n",
    "from numpy import expand_dims\n",
    "import tensorflow as tf\n",
    "from keras.models import Sequential\n",
    "from keras.layers import Conv2D, MaxPooling2D, Flatten, Dense, Dropout\n",
    "from keras.callbacks import EarlyStopping\n",
    "from tensorflow.keras.optimizers import RMSprop, Adam\n",
    "from sklearn.metrics import accuracy_score\n",
    "import keras\n",
    "import numpy as np\n",
    "import os\n",
    "import time"
   ]
  },
  {
   "cell_type": "code",
   "execution_count": 2,
   "metadata": {},
   "outputs": [],
   "source": [
    "def import_images(directory,size = (480,640)):\n",
    "    images = []\n",
    "    for filename in os.listdir(directory):\n",
    "        f = os.path.join(directory, filename)\n",
    "        img = cv2.imread(f)\n",
    "        img = cv2.resize(img,size)\n",
    "        img_RGB = cv2.cvtColor(img, cv2.COLOR_BGR2RGB)\n",
    "        img_norm = img_RGB/255\n",
    "        images.append(img_norm)\n",
    "    return np.array(images)    "
   ]
  },
  {
   "cell_type": "code",
   "execution_count": 3,
   "metadata": {},
   "outputs": [],
   "source": [
    "empty = import_images(r\"C:\\Users\\DELL\\Desktop\\face_recognition\\empty\")\n",
    "not_empty = import_images(r\"C:\\Users\\DELL\\Desktop\\face_recognition\\not_empty\")"
   ]
  },
  {
   "cell_type": "code",
   "execution_count": 4,
   "metadata": {},
   "outputs": [],
   "source": [
    "me_datagen = ImageDataGenerator( rotation_range = 30, zoom_range = 0.20, \n",
    "fill_mode = \"nearest\", shear_range = 0.20, horizontal_flip = True, \n",
    "width_shift_range = 0.1, height_shift_range = 0.1)"
   ]
  },
  {
   "cell_type": "code",
   "execution_count": 5,
   "metadata": {},
   "outputs": [],
   "source": [
    "def image_augmentation(train_dir,test_dir,dataset_size,tr_ts_split,numb_of_images,images):\n",
    "    naming_var = 0\n",
    "    loop_range = dataset_size/numb_of_images\n",
    "    train_treshold = loop_range*tr_ts_split\n",
    "    for i in images:\n",
    "        naming_var += 1\n",
    "        sample = expand_dims(i, 0)\n",
    "        generator = me_datagen.flow(sample, batch_size=1)\n",
    "        for j in range(int(loop_range)):\n",
    "            imgn = generator.next()\n",
    "            imgn_RGB = cv2.cvtColor(imgn[0], cv2.COLOR_BGR2RGB)\n",
    "            name = str(naming_var) + \"_\" + str(j)+\".jpg\"\n",
    "            if j < train_treshold:\n",
    "                cv2.imwrite(train_dir + \"\\img_\" + name, 255*imgn_RGB)\n",
    "            else:\n",
    "                cv2.imwrite(test_dir + \"\\img_\" + name, 255*imgn_RGB)"
   ]
  },
  {
   "cell_type": "code",
   "execution_count": 34,
   "metadata": {},
   "outputs": [],
   "source": [
    "image_augmentation(r\"C:\\Users\\DELL\\Desktop\\root\\train\\empty\",r\"C:\\Users\\DELL\\Desktop\\root\\test\\empty\",\n",
    "                  1000,0.8,10,empty)"
   ]
  },
  {
   "cell_type": "code",
   "execution_count": 35,
   "metadata": {},
   "outputs": [],
   "source": [
    "image_augmentation(r\"C:\\Users\\DELL\\Desktop\\root\\train\\not_empty\",r\"C:\\Users\\DELL\\Desktop\\root\\test\\not_empty\",\n",
    "                  1000,0.8,10,not_empty)"
   ]
  },
  {
   "cell_type": "code",
   "execution_count": 6,
   "metadata": {},
   "outputs": [
    {
     "name": "stdout",
     "output_type": "stream",
     "text": [
      "Found 1600 images belonging to 2 classes.\n",
      "Found 400 images belonging to 2 classes.\n"
     ]
    }
   ],
   "source": [
    "datagen = ImageDataGenerator(rescale=1./255)\n",
    "train_generator = datagen.flow_from_directory(r\"C:\\Users\\DELL\\Desktop\\root\\train\",target_size=(480,640),\n",
    "class_mode=\"binary\",batch_size=10,shuffle=True)\n",
    "test_generator = datagen.flow_from_directory(r\"C:\\Users\\DELL\\Desktop\\root\\test\",target_size=(480,640),\n",
    "class_mode=\"binary\",batch_size=10)"
   ]
  },
  {
   "cell_type": "code",
   "execution_count": 7,
   "metadata": {},
   "outputs": [],
   "source": [
    "class StopOnPoint(tf.keras.callbacks.Callback):\n",
    "    def _init_(self):\n",
    "        super(StopOnPoint,self)._init_()\n",
    "        #self.point = point\n",
    "        \n",
    "    def on_epoch_end(self, epoch, logs =None):\n",
    "        accuracy = logs[\"accuracy\"]\n",
    "        val_accuracy = logs[\"val_accuracy\"]\n",
    "        if accuracy >= 0.98 and val_accuracy >= 0.98:\n",
    "            self.model.stop_training = True"
   ]
  },
  {
   "cell_type": "code",
   "execution_count": 9,
   "metadata": {},
   "outputs": [
    {
     "name": "stderr",
     "output_type": "stream",
     "text": [
      "<ipython-input-9-93a4a9325d82>:17: UserWarning: `Model.fit_generator` is deprecated and will be removed in a future version. Please use `Model.fit`, which supports generators.\n",
      "  fit = model.fit_generator(train_generator,validation_data=test_generator,steps_per_epoch = 160,validation_steps=40,epochs=100,callbacks=[SOP])\n"
     ]
    },
    {
     "name": "stdout",
     "output_type": "stream",
     "text": [
      "Epoch 1/100\n",
      "160/160 [==============================] - 879s 5s/step - loss: 0.9809 - accuracy: 0.5106 - val_loss: 0.4812 - val_accuracy: 0.6900\n",
      "Epoch 2/100\n",
      "160/160 [==============================] - 1012s 6s/step - loss: 0.5558 - accuracy: 0.7513 - val_loss: 0.4457 - val_accuracy: 0.8525\n",
      "Epoch 3/100\n",
      "160/160 [==============================] - 1064s 7s/step - loss: 0.5074 - accuracy: 0.8225 - val_loss: 0.4652 - val_accuracy: 0.7925\n",
      "Epoch 4/100\n",
      "160/160 [==============================] - 4259s 27s/step - loss: 0.4885 - accuracy: 0.8238 - val_loss: 0.3085 - val_accuracy: 0.8750\n",
      "Epoch 5/100\n",
      "160/160 [==============================] - 2621s 16s/step - loss: 0.4760 - accuracy: 0.8587 - val_loss: 0.3101 - val_accuracy: 0.8750\n",
      "Epoch 6/100\n",
      "160/160 [==============================] - 642s 4s/step - loss: 0.3135 - accuracy: 0.9319 - val_loss: 0.4140 - val_accuracy: 0.9375\n",
      "Epoch 7/100\n",
      "160/160 [==============================] - 4490s 28s/step - loss: 0.2917 - accuracy: 0.9669 - val_loss: 0.0826 - val_accuracy: 0.9700\n",
      "Epoch 8/100\n",
      "160/160 [==============================] - 769s 5s/step - loss: 0.2442 - accuracy: 0.9675 - val_loss: 0.0086 - val_accuracy: 1.0000\n",
      "Epoch 9/100\n",
      "160/160 [==============================] - 678s 4s/step - loss: 0.6107 - accuracy: 0.9762 - val_loss: 0.0299 - val_accuracy: 0.9950\n",
      "Epoch 10/100\n",
      "160/160 [==============================] - 715s 4s/step - loss: 0.3730 - accuracy: 0.9719 - val_loss: 0.1558 - val_accuracy: 0.9900\n",
      "Epoch 11/100\n",
      "160/160 [==============================] - 656s 4s/step - loss: 0.1718 - accuracy: 0.9825 - val_loss: 2.5582e-04 - val_accuracy: 1.0000\n"
     ]
    }
   ],
   "source": [
    "model = Sequential()\n",
    "model.add(Conv2D(32,(3,3),activation=\"relu\",input_shape=(480,640, 3)))\n",
    "model.add(MaxPooling2D((2,2)))\n",
    "model.add(Conv2D(64,(3,3),activation=\"relu\"))\n",
    "model.add(MaxPooling2D((2,2)))\n",
    "model.add(Conv2D(32,(3,3),activation=\"relu\"))\n",
    "model.add(Flatten())\n",
    "model.add(Dense(64,activation=\"relu\"))\n",
    "model.add(Dropout(0.5))\n",
    "model.add(Dense(32,activation=\"relu\"))\n",
    "model.add(Dropout(0.5))\n",
    "model.add(Dense(10,activation=\"relu\"))\n",
    "model.add(Dense(1,activation=\"sigmoid\"))\n",
    "opt = RMSprop()\n",
    "SOP = StopOnPoint()\n",
    "model.compile(optimizer=opt,loss='binary_crossentropy',metrics=['accuracy'])\n",
    "fit = model.fit_generator(train_generator,validation_data=test_generator,steps_per_epoch = 160,validation_steps=40,epochs=100,callbacks=[SOP])"
   ]
  },
  {
   "cell_type": "code",
   "execution_count": 10,
   "metadata": {},
   "outputs": [
    {
     "name": "stderr",
     "output_type": "stream",
     "text": [
      "No handles with labels found to put in legend.\n"
     ]
    },
    {
     "data": {
      "text/plain": [
       "<matplotlib.legend.Legend at 0x24eb24b8e50>"
      ]
     },
     "execution_count": 10,
     "metadata": {},
     "output_type": "execute_result"
    },
    {
     "data": {
      "image/png": "[encoded data removed]",
      "text/plain": [
       "<Figure size 432x288 with 1 Axes>"
      ]
     },
     "metadata": {
      "needs_background": "light"
     },
     "output_type": "display_data"
    }
   ],
   "source": [
    "plt.plot(fit.history['accuracy'])\n",
    "plt.plot(fit.history['val_accuracy'])\n",
    "plt.legend()"
   ]
  },
  {
   "cell_type": "code",
   "execution_count": 11,
   "metadata": {},
   "outputs": [
    {
     "name": "stdout",
     "output_type": "stream",
     "text": [
      "INFO:tensorflow:Assets written to: inv_classifier\\assets\n"
     ]
    }
   ],
   "source": [
    "model.save('inv_classifier')"
   ]
  },
  {
   "cell_type": "code",
   "execution_count": 3,
   "metadata": {},
   "outputs": [],
   "source": [
    "model = keras.models.load_model(\"inv_classifier\")"
   ]
  },
  {
   "cell_type": "code",
   "execution_count": 28,
   "metadata": {},
   "outputs": [],
   "source": [
    "val_data = import_images(r\"C:\\Users\\DELL\\Desktop\\face_recognition\\not_empty\",size=(640,480))"
   ]
  },
  {
   "cell_type": "code",
   "execution_count": 30,
   "metadata": {},
   "outputs": [
    {
     "data": {
      "text/plain": [
       "array([[False],\n",
       "       [ True],\n",
       "       [ True],\n",
       "       [ True],\n",
       "       [ True],\n",
       "       [ True],\n",
       "       [ True],\n",
       "       [ True],\n",
       "       [ True],\n",
       "       [ True],\n",
       "       [ True]])"
      ]
     },
     "execution_count": 30,
     "metadata": {},
     "output_type": "execute_result"
    }
   ],
   "source": [
    "model.predict(val_data) > 0.5"
   ]
  },
  {
   "cell_type": "code",
   "execution_count": 18,
   "metadata": {},
   "outputs": [
    {
     "name": "stdout",
     "output_type": "stream",
     "text": [
      "INFO:tensorflow:Assets written to: C:\\Users\\DELL\\Desktop\\env_classifier\\assets\n"
     ]
    }
   ],
   "source": [
    "model.save(r'C:\\Users\\DELL\\Desktop\\env_classifier')"
   ]
  },
  {
   "cell_type": "code",
   "execution_count": null,
   "metadata": {},
   "outputs": [],
   "source": []
  }
 ],
 "metadata": {
  "kernelspec": {
   "display_name": "Python 3",
   "language": "python",
   "name": "python3"
  },
  "language_info": {
   "codemirror_mode": {
    "name": "ipython",
    "version": 3
   },
   "file_extension": ".py",
   "mimetype": "text/x-python",
   "name": "python",
   "nbconvert_exporter": "python",
   "pygments_lexer": "ipython3",
   "version": "3.8.5"
  }
 },
 "nbformat": 4,
 "nbformat_minor": 4
}
